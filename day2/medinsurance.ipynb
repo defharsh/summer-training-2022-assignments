{
 "cells": [
  {
   "cell_type": "code",
   "execution_count": 1,
   "id": "93313864",
   "metadata": {
    "execution": {
     "iopub.execute_input": "2022-06-23T06:22:43.605182Z",
     "iopub.status.busy": "2022-06-23T06:22:43.603827Z",
     "iopub.status.idle": "2022-06-23T06:22:43.617552Z",
     "shell.execute_reply": "2022-06-23T06:22:43.616353Z"
    },
    "papermill": {
     "duration": 0.028167,
     "end_time": "2022-06-23T06:22:43.620695",
     "exception": false,
     "start_time": "2022-06-23T06:22:43.592528",
     "status": "completed"
    },
    "tags": []
   },
   "outputs": [],
   "source": [
    "import numpy as np\n",
    "import matplotlib.pyplot as plt\n",
    "import pandas as pd "
   ]
  },
  {
   "cell_type": "code",
   "execution_count": 2,
   "id": "f8225ccf",
   "metadata": {
    "execution": {
     "iopub.execute_input": "2022-06-23T06:22:43.640103Z",
     "iopub.status.busy": "2022-06-23T06:22:43.638952Z",
     "iopub.status.idle": "2022-06-23T06:22:43.664349Z",
     "shell.execute_reply": "2022-06-23T06:22:43.663124Z"
    },
    "papermill": {
     "duration": 0.037742,
     "end_time": "2022-06-23T06:22:43.666952",
     "exception": false,
     "start_time": "2022-06-23T06:22:43.629210",
     "status": "completed"
    },
    "tags": []
   },
   "outputs": [],
   "source": [
    "df = pd.read_csv('/kaggle/input/insurance/insurance.csv')"
   ]
  },
  {
   "cell_type": "code",
   "execution_count": 3,
   "id": "6ab9b0a2",
   "metadata": {
    "execution": {
     "iopub.execute_input": "2022-06-23T06:22:43.685204Z",
     "iopub.status.busy": "2022-06-23T06:22:43.684824Z",
     "iopub.status.idle": "2022-06-23T06:22:43.708014Z",
     "shell.execute_reply": "2022-06-23T06:22:43.706829Z"
    },
    "papermill": {
     "duration": 0.035832,
     "end_time": "2022-06-23T06:22:43.710988",
     "exception": false,
     "start_time": "2022-06-23T06:22:43.675156",
     "status": "completed"
    },
    "tags": []
   },
   "outputs": [
    {
     "data": {
      "text/html": [
       "<div>\n",
       "<style scoped>\n",
       "    .dataframe tbody tr th:only-of-type {\n",
       "        vertical-align: middle;\n",
       "    }\n",
       "\n",
       "    .dataframe tbody tr th {\n",
       "        vertical-align: top;\n",
       "    }\n",
       "\n",
       "    .dataframe thead th {\n",
       "        text-align: right;\n",
       "    }\n",
       "</style>\n",
       "<table border=\"1\" class=\"dataframe\">\n",
       "  <thead>\n",
       "    <tr style=\"text-align: right;\">\n",
       "      <th></th>\n",
       "      <th>age</th>\n",
       "      <th>sex</th>\n",
       "      <th>bmi</th>\n",
       "      <th>children</th>\n",
       "      <th>smoker</th>\n",
       "      <th>region</th>\n",
       "      <th>charges</th>\n",
       "    </tr>\n",
       "  </thead>\n",
       "  <tbody>\n",
       "    <tr>\n",
       "      <th>0</th>\n",
       "      <td>19</td>\n",
       "      <td>female</td>\n",
       "      <td>27.900</td>\n",
       "      <td>0</td>\n",
       "      <td>yes</td>\n",
       "      <td>southwest</td>\n",
       "      <td>16884.92400</td>\n",
       "    </tr>\n",
       "    <tr>\n",
       "      <th>1</th>\n",
       "      <td>18</td>\n",
       "      <td>male</td>\n",
       "      <td>33.770</td>\n",
       "      <td>1</td>\n",
       "      <td>no</td>\n",
       "      <td>southeast</td>\n",
       "      <td>1725.55230</td>\n",
       "    </tr>\n",
       "    <tr>\n",
       "      <th>2</th>\n",
       "      <td>28</td>\n",
       "      <td>male</td>\n",
       "      <td>33.000</td>\n",
       "      <td>3</td>\n",
       "      <td>no</td>\n",
       "      <td>southeast</td>\n",
       "      <td>4449.46200</td>\n",
       "    </tr>\n",
       "    <tr>\n",
       "      <th>3</th>\n",
       "      <td>33</td>\n",
       "      <td>male</td>\n",
       "      <td>22.705</td>\n",
       "      <td>0</td>\n",
       "      <td>no</td>\n",
       "      <td>northwest</td>\n",
       "      <td>21984.47061</td>\n",
       "    </tr>\n",
       "    <tr>\n",
       "      <th>4</th>\n",
       "      <td>32</td>\n",
       "      <td>male</td>\n",
       "      <td>28.880</td>\n",
       "      <td>0</td>\n",
       "      <td>no</td>\n",
       "      <td>northwest</td>\n",
       "      <td>3866.85520</td>\n",
       "    </tr>\n",
       "  </tbody>\n",
       "</table>\n",
       "</div>"
      ],
      "text/plain": [
       "   age     sex     bmi  children smoker     region      charges\n",
       "0   19  female  27.900         0    yes  southwest  16884.92400\n",
       "1   18    male  33.770         1     no  southeast   1725.55230\n",
       "2   28    male  33.000         3     no  southeast   4449.46200\n",
       "3   33    male  22.705         0     no  northwest  21984.47061\n",
       "4   32    male  28.880         0     no  northwest   3866.85520"
      ]
     },
     "execution_count": 3,
     "metadata": {},
     "output_type": "execute_result"
    }
   ],
   "source": [
    "df.head()"
   ]
  },
  {
   "cell_type": "code",
   "execution_count": 4,
   "id": "c57b0372",
   "metadata": {
    "execution": {
     "iopub.execute_input": "2022-06-23T06:22:43.730337Z",
     "iopub.status.busy": "2022-06-23T06:22:43.729244Z",
     "iopub.status.idle": "2022-06-23T06:22:43.736116Z",
     "shell.execute_reply": "2022-06-23T06:22:43.735186Z"
    },
    "papermill": {
     "duration": 0.01934,
     "end_time": "2022-06-23T06:22:43.738737",
     "exception": false,
     "start_time": "2022-06-23T06:22:43.719397",
     "status": "completed"
    },
    "tags": []
   },
   "outputs": [
    {
     "data": {
      "text/plain": [
       "(1338, 7)"
      ]
     },
     "execution_count": 4,
     "metadata": {},
     "output_type": "execute_result"
    }
   ],
   "source": [
    "df.shape"
   ]
  },
  {
   "cell_type": "markdown",
   "id": "4ee03de8",
   "metadata": {
    "papermill": {
     "duration": 0.008337,
     "end_time": "2022-06-23T06:22:43.755667",
     "exception": false,
     "start_time": "2022-06-23T06:22:43.747330",
     "status": "completed"
    },
    "tags": []
   },
   "source": [
    "We have 1338 rows and 7 columns."
   ]
  },
  {
   "cell_type": "code",
   "execution_count": 5,
   "id": "1defcd37",
   "metadata": {
    "execution": {
     "iopub.execute_input": "2022-06-23T06:22:43.775023Z",
     "iopub.status.busy": "2022-06-23T06:22:43.774286Z",
     "iopub.status.idle": "2022-06-23T06:22:43.802018Z",
     "shell.execute_reply": "2022-06-23T06:22:43.800643Z"
    },
    "papermill": {
     "duration": 0.041967,
     "end_time": "2022-06-23T06:22:43.806145",
     "exception": false,
     "start_time": "2022-06-23T06:22:43.764178",
     "status": "completed"
    },
    "tags": []
   },
   "outputs": [
    {
     "name": "stdout",
     "output_type": "stream",
     "text": [
      "<class 'pandas.core.frame.DataFrame'>\n",
      "RangeIndex: 1338 entries, 0 to 1337\n",
      "Data columns (total 7 columns):\n",
      " #   Column    Non-Null Count  Dtype  \n",
      "---  ------    --------------  -----  \n",
      " 0   age       1338 non-null   int64  \n",
      " 1   sex       1338 non-null   object \n",
      " 2   bmi       1338 non-null   float64\n",
      " 3   children  1338 non-null   int64  \n",
      " 4   smoker    1338 non-null   object \n",
      " 5   region    1338 non-null   object \n",
      " 6   charges   1338 non-null   float64\n",
      "dtypes: float64(2), int64(2), object(3)\n",
      "memory usage: 73.3+ KB\n"
     ]
    }
   ],
   "source": [
    "df.info()"
   ]
  },
  {
   "cell_type": "code",
   "execution_count": 6,
   "id": "2e461d82",
   "metadata": {
    "execution": {
     "iopub.execute_input": "2022-06-23T06:22:43.827126Z",
     "iopub.status.busy": "2022-06-23T06:22:43.825978Z",
     "iopub.status.idle": "2022-06-23T06:22:43.857239Z",
     "shell.execute_reply": "2022-06-23T06:22:43.856016Z"
    },
    "papermill": {
     "duration": 0.044597,
     "end_time": "2022-06-23T06:22:43.859978",
     "exception": false,
     "start_time": "2022-06-23T06:22:43.815381",
     "status": "completed"
    },
    "tags": []
   },
   "outputs": [
    {
     "data": {
      "text/html": [
       "<div>\n",
       "<style scoped>\n",
       "    .dataframe tbody tr th:only-of-type {\n",
       "        vertical-align: middle;\n",
       "    }\n",
       "\n",
       "    .dataframe tbody tr th {\n",
       "        vertical-align: top;\n",
       "    }\n",
       "\n",
       "    .dataframe thead th {\n",
       "        text-align: right;\n",
       "    }\n",
       "</style>\n",
       "<table border=\"1\" class=\"dataframe\">\n",
       "  <thead>\n",
       "    <tr style=\"text-align: right;\">\n",
       "      <th></th>\n",
       "      <th>age</th>\n",
       "      <th>bmi</th>\n",
       "      <th>children</th>\n",
       "      <th>charges</th>\n",
       "    </tr>\n",
       "  </thead>\n",
       "  <tbody>\n",
       "    <tr>\n",
       "      <th>count</th>\n",
       "      <td>1338.000000</td>\n",
       "      <td>1338.000000</td>\n",
       "      <td>1338.000000</td>\n",
       "      <td>1338.000000</td>\n",
       "    </tr>\n",
       "    <tr>\n",
       "      <th>mean</th>\n",
       "      <td>39.207025</td>\n",
       "      <td>30.663397</td>\n",
       "      <td>1.094918</td>\n",
       "      <td>13270.422265</td>\n",
       "    </tr>\n",
       "    <tr>\n",
       "      <th>std</th>\n",
       "      <td>14.049960</td>\n",
       "      <td>6.098187</td>\n",
       "      <td>1.205493</td>\n",
       "      <td>12110.011237</td>\n",
       "    </tr>\n",
       "    <tr>\n",
       "      <th>min</th>\n",
       "      <td>18.000000</td>\n",
       "      <td>15.960000</td>\n",
       "      <td>0.000000</td>\n",
       "      <td>1121.873900</td>\n",
       "    </tr>\n",
       "    <tr>\n",
       "      <th>25%</th>\n",
       "      <td>27.000000</td>\n",
       "      <td>26.296250</td>\n",
       "      <td>0.000000</td>\n",
       "      <td>4740.287150</td>\n",
       "    </tr>\n",
       "    <tr>\n",
       "      <th>50%</th>\n",
       "      <td>39.000000</td>\n",
       "      <td>30.400000</td>\n",
       "      <td>1.000000</td>\n",
       "      <td>9382.033000</td>\n",
       "    </tr>\n",
       "    <tr>\n",
       "      <th>75%</th>\n",
       "      <td>51.000000</td>\n",
       "      <td>34.693750</td>\n",
       "      <td>2.000000</td>\n",
       "      <td>16639.912515</td>\n",
       "    </tr>\n",
       "    <tr>\n",
       "      <th>max</th>\n",
       "      <td>64.000000</td>\n",
       "      <td>53.130000</td>\n",
       "      <td>5.000000</td>\n",
       "      <td>63770.428010</td>\n",
       "    </tr>\n",
       "  </tbody>\n",
       "</table>\n",
       "</div>"
      ],
      "text/plain": [
       "               age          bmi     children       charges\n",
       "count  1338.000000  1338.000000  1338.000000   1338.000000\n",
       "mean     39.207025    30.663397     1.094918  13270.422265\n",
       "std      14.049960     6.098187     1.205493  12110.011237\n",
       "min      18.000000    15.960000     0.000000   1121.873900\n",
       "25%      27.000000    26.296250     0.000000   4740.287150\n",
       "50%      39.000000    30.400000     1.000000   9382.033000\n",
       "75%      51.000000    34.693750     2.000000  16639.912515\n",
       "max      64.000000    53.130000     5.000000  63770.428010"
      ]
     },
     "execution_count": 6,
     "metadata": {},
     "output_type": "execute_result"
    }
   ],
   "source": [
    "df.describe()"
   ]
  },
  {
   "cell_type": "code",
   "execution_count": 7,
   "id": "d81cfe49",
   "metadata": {
    "execution": {
     "iopub.execute_input": "2022-06-23T06:22:43.880365Z",
     "iopub.status.busy": "2022-06-23T06:22:43.879619Z",
     "iopub.status.idle": "2022-06-23T06:22:43.890763Z",
     "shell.execute_reply": "2022-06-23T06:22:43.889328Z"
    },
    "papermill": {
     "duration": 0.024209,
     "end_time": "2022-06-23T06:22:43.893487",
     "exception": false,
     "start_time": "2022-06-23T06:22:43.869278",
     "status": "completed"
    },
    "tags": []
   },
   "outputs": [
    {
     "data": {
      "text/plain": [
       "age         0\n",
       "sex         0\n",
       "bmi         0\n",
       "children    0\n",
       "smoker      0\n",
       "region      0\n",
       "charges     0\n",
       "dtype: int64"
      ]
     },
     "execution_count": 7,
     "metadata": {},
     "output_type": "execute_result"
    }
   ],
   "source": [
    "df.isnull().sum()"
   ]
  },
  {
   "cell_type": "markdown",
   "id": "f1d12fb9",
   "metadata": {
    "papermill": {
     "duration": 0.008796,
     "end_time": "2022-06-23T06:22:43.911478",
     "exception": false,
     "start_time": "2022-06-23T06:22:43.902682",
     "status": "completed"
    },
    "tags": []
   },
   "source": [
    "No Null values. Our work gets easier."
   ]
  },
  {
   "cell_type": "code",
   "execution_count": 8,
   "id": "cc730001",
   "metadata": {
    "execution": {
     "iopub.execute_input": "2022-06-23T06:22:43.932850Z",
     "iopub.status.busy": "2022-06-23T06:22:43.932013Z",
     "iopub.status.idle": "2022-06-23T06:22:44.137870Z",
     "shell.execute_reply": "2022-06-23T06:22:44.136903Z"
    },
    "papermill": {
     "duration": 0.218773,
     "end_time": "2022-06-23T06:22:44.140140",
     "exception": false,
     "start_time": "2022-06-23T06:22:43.921367",
     "status": "completed"
    },
    "tags": []
   },
   "outputs": [
    {
     "data": {
      "image/png": "[encoded data removed]",
      "text/plain": [
       "<Figure size 432x288 with 1 Axes>"
      ]
     },
     "metadata": {
      "needs_background": "light"
     },
     "output_type": "display_data"
    }
   ],
   "source": [
    "plt.hist(df.charges,color='Red')\n",
    "plt.show()"
   ]
  },
  {
   "cell_type": "code",
   "execution_count": 9,
   "id": "7652111d",
   "metadata": {
    "execution": {
     "iopub.execute_input": "2022-06-23T06:22:44.161612Z",
     "iopub.status.busy": "2022-06-23T06:22:44.160558Z",
     "iopub.status.idle": "2022-06-23T06:22:44.316995Z",
     "shell.execute_reply": "2022-06-23T06:22:44.315692Z"
    },
    "papermill": {
     "duration": 0.170392,
     "end_time": "2022-06-23T06:22:44.320082",
     "exception": false,
     "start_time": "2022-06-23T06:22:44.149690",
     "status": "completed"
    },
    "tags": []
   },
   "outputs": [
    {
     "data": {
      "image/png": "[encoded data removed]",
      "text/plain": [
       "<Figure size 432x288 with 1 Axes>"
      ]
     },
     "metadata": {
      "needs_background": "light"
     },
     "output_type": "display_data"
    }
   ],
   "source": [
    "target = np.log(df.charges)\n",
    "plt.hist(target,color='blue')\n",
    "plt.show()"
   ]
  },
  {
   "cell_type": "code",
   "execution_count": 10,
   "id": "f2e47d01",
   "metadata": {
    "execution": {
     "iopub.execute_input": "2022-06-23T06:22:44.341942Z",
     "iopub.status.busy": "2022-06-23T06:22:44.341475Z",
     "iopub.status.idle": "2022-06-23T06:22:44.352171Z",
     "shell.execute_reply": "2022-06-23T06:22:44.351026Z"
    },
    "papermill": {
     "duration": 0.024165,
     "end_time": "2022-06-23T06:22:44.354427",
     "exception": false,
     "start_time": "2022-06-23T06:22:44.330262",
     "status": "completed"
    },
    "tags": []
   },
   "outputs": [
    {
     "data": {
      "text/plain": [
       "age           int64\n",
       "bmi         float64\n",
       "children      int64\n",
       "charges     float64\n",
       "dtype: object"
      ]
     },
     "execution_count": 10,
     "metadata": {},
     "output_type": "execute_result"
    }
   ],
   "source": [
    "numerical_features = df.select_dtypes(include=[np.number])\n",
    "numerical_features.dtypes"
   ]
  },
  {
   "cell_type": "markdown",
   "id": "2a9d3c18",
   "metadata": {
    "papermill": {
     "duration": 0.009309,
     "end_time": "2022-06-23T06:22:44.373452",
     "exception": false,
     "start_time": "2022-06-23T06:22:44.364143",
     "status": "completed"
    },
    "tags": []
   },
   "source": [
    "These are our numerical values."
   ]
  },
  {
   "cell_type": "code",
   "execution_count": 11,
   "id": "cff1966b",
   "metadata": {
    "execution": {
     "iopub.execute_input": "2022-06-23T06:22:44.394936Z",
     "iopub.status.busy": "2022-06-23T06:22:44.394503Z",
     "iopub.status.idle": "2022-06-23T06:22:44.405804Z",
     "shell.execute_reply": "2022-06-23T06:22:44.404102Z"
    },
    "papermill": {
     "duration": 0.025427,
     "end_time": "2022-06-23T06:22:44.408479",
     "exception": false,
     "start_time": "2022-06-23T06:22:44.383052",
     "status": "completed"
    },
    "tags": []
   },
   "outputs": [
    {
     "data": {
      "text/plain": [
       "sex       object\n",
       "smoker    object\n",
       "region    object\n",
       "dtype: object"
      ]
     },
     "execution_count": 11,
     "metadata": {},
     "output_type": "execute_result"
    }
   ],
   "source": [
    "categorical = df.select_dtypes(exclude=[np.number])\n",
    "categorical.dtypes"
   ]
  },
  {
   "cell_type": "markdown",
   "id": "473eef6f",
   "metadata": {
    "papermill": {
     "duration": 0.009522,
     "end_time": "2022-06-23T06:22:44.427979",
     "exception": false,
     "start_time": "2022-06-23T06:22:44.418457",
     "status": "completed"
    },
    "tags": []
   },
   "source": [
    "We need to encode this values before training our model."
   ]
  },
  {
   "cell_type": "code",
   "execution_count": 12,
   "id": "59353d70",
   "metadata": {
    "execution": {
     "iopub.execute_input": "2022-06-23T06:22:44.450045Z",
     "iopub.status.busy": "2022-06-23T06:22:44.449207Z",
     "iopub.status.idle": "2022-06-23T06:22:44.460790Z",
     "shell.execute_reply": "2022-06-23T06:22:44.459426Z"
    },
    "papermill": {
     "duration": 0.025536,
     "end_time": "2022-06-23T06:22:44.463465",
     "exception": false,
     "start_time": "2022-06-23T06:22:44.437929",
     "status": "completed"
    },
    "tags": []
   },
   "outputs": [
    {
     "name": "stdout",
     "output_type": "stream",
     "text": [
      "charges     1.000000\n",
      "age         0.299008\n",
      "bmi         0.198341\n",
      "children    0.067998\n",
      "Name: charges, dtype: float64 \n",
      "\n"
     ]
    }
   ],
   "source": [
    "corr = numerical_features.corr()\n",
    "print(corr['charges'].sort_values(ascending=False)[:5],'\\n')"
   ]
  },
  {
   "cell_type": "markdown",
   "id": "31cb6ace",
   "metadata": {
    "papermill": {
     "duration": 0.009528,
     "end_time": "2022-06-23T06:22:44.482833",
     "exception": false,
     "start_time": "2022-06-23T06:22:44.473305",
     "status": "completed"
    },
    "tags": []
   },
   "source": [
    "Here we can see correlation of our numerical features with our target variable charges. But this is still half picture, wee need to consider categorical features as well but before that we need to encode them."
   ]
  },
  {
   "cell_type": "code",
   "execution_count": 13,
   "id": "67871fd5",
   "metadata": {
    "execution": {
     "iopub.execute_input": "2022-06-23T06:22:44.504791Z",
     "iopub.status.busy": "2022-06-23T06:22:44.503988Z",
     "iopub.status.idle": "2022-06-23T06:22:44.511775Z",
     "shell.execute_reply": "2022-06-23T06:22:44.510689Z"
    },
    "papermill": {
     "duration": 0.021903,
     "end_time": "2022-06-23T06:22:44.514539",
     "exception": false,
     "start_time": "2022-06-23T06:22:44.492636",
     "status": "completed"
    },
    "tags": []
   },
   "outputs": [],
   "source": [
    "df['enc_sex']=pd.get_dummies(df.sex,drop_first=True)\n",
    "\n"
   ]
  },
  {
   "cell_type": "code",
   "execution_count": 14,
   "id": "78882d4f",
   "metadata": {
    "execution": {
     "iopub.execute_input": "2022-06-23T06:22:44.537510Z",
     "iopub.status.busy": "2022-06-23T06:22:44.536698Z",
     "iopub.status.idle": "2022-06-23T06:22:44.545070Z",
     "shell.execute_reply": "2022-06-23T06:22:44.544097Z"
    },
    "papermill": {
     "duration": 0.022722,
     "end_time": "2022-06-23T06:22:44.547514",
     "exception": false,
     "start_time": "2022-06-23T06:22:44.524792",
     "status": "completed"
    },
    "tags": []
   },
   "outputs": [],
   "source": [
    "df.replace({\"smoker\":{\"no\":0,\"yes\":1}}, inplace = True)"
   ]
  },
  {
   "cell_type": "code",
   "execution_count": 15,
   "id": "d4a6415b",
   "metadata": {
    "execution": {
     "iopub.execute_input": "2022-06-23T06:22:44.569303Z",
     "iopub.status.busy": "2022-06-23T06:22:44.568457Z",
     "iopub.status.idle": "2022-06-23T06:22:44.577428Z",
     "shell.execute_reply": "2022-06-23T06:22:44.576626Z"
    },
    "papermill": {
     "duration": 0.022856,
     "end_time": "2022-06-23T06:22:44.580079",
     "exception": false,
     "start_time": "2022-06-23T06:22:44.557223",
     "status": "completed"
    },
    "tags": []
   },
   "outputs": [],
   "source": [
    "df.replace({\"region\":{\"southeast\":0,\"southwest\":1,\"northeast\":2,\"northwest\":3}}, inplace = True)"
   ]
  },
  {
   "cell_type": "code",
   "execution_count": 16,
   "id": "ba68d53a",
   "metadata": {
    "execution": {
     "iopub.execute_input": "2022-06-23T06:22:44.601786Z",
     "iopub.status.busy": "2022-06-23T06:22:44.601353Z",
     "iopub.status.idle": "2022-06-23T06:22:44.616563Z",
     "shell.execute_reply": "2022-06-23T06:22:44.615028Z"
    },
    "papermill": {
     "duration": 0.029916,
     "end_time": "2022-06-23T06:22:44.619731",
     "exception": false,
     "start_time": "2022-06-23T06:22:44.589815",
     "status": "completed"
    },
    "tags": []
   },
   "outputs": [
    {
     "name": "stdout",
     "output_type": "stream",
     "text": [
      "<class 'pandas.core.frame.DataFrame'>\n",
      "RangeIndex: 1338 entries, 0 to 1337\n",
      "Data columns (total 8 columns):\n",
      " #   Column    Non-Null Count  Dtype  \n",
      "---  ------    --------------  -----  \n",
      " 0   age       1338 non-null   int64  \n",
      " 1   sex       1338 non-null   object \n",
      " 2   bmi       1338 non-null   float64\n",
      " 3   children  1338 non-null   int64  \n",
      " 4   smoker    1338 non-null   int64  \n",
      " 5   region    1338 non-null   int64  \n",
      " 6   charges   1338 non-null   float64\n",
      " 7   enc_sex   1338 non-null   uint8  \n",
      "dtypes: float64(2), int64(4), object(1), uint8(1)\n",
      "memory usage: 74.6+ KB\n"
     ]
    }
   ],
   "source": [
    "df.info()"
   ]
  },
  {
   "cell_type": "code",
   "execution_count": 17,
   "id": "90e6e32f",
   "metadata": {
    "execution": {
     "iopub.execute_input": "2022-06-23T06:22:44.644984Z",
     "iopub.status.busy": "2022-06-23T06:22:44.642728Z",
     "iopub.status.idle": "2022-06-23T06:22:44.651836Z",
     "shell.execute_reply": "2022-06-23T06:22:44.650452Z"
    },
    "papermill": {
     "duration": 0.023868,
     "end_time": "2022-06-23T06:22:44.654809",
     "exception": false,
     "start_time": "2022-06-23T06:22:44.630941",
     "status": "completed"
    },
    "tags": []
   },
   "outputs": [],
   "source": [
    "data= df.select_dtypes(include=[np.number])\n"
   ]
  },
  {
   "cell_type": "code",
   "execution_count": 18,
   "id": "824deeeb",
   "metadata": {
    "execution": {
     "iopub.execute_input": "2022-06-23T06:22:44.677164Z",
     "iopub.status.busy": "2022-06-23T06:22:44.676736Z",
     "iopub.status.idle": "2022-06-23T06:22:44.683939Z",
     "shell.execute_reply": "2022-06-23T06:22:44.682968Z"
    },
    "papermill": {
     "duration": 0.02126,
     "end_time": "2022-06-23T06:22:44.686134",
     "exception": false,
     "start_time": "2022-06-23T06:22:44.664874",
     "status": "completed"
    },
    "tags": []
   },
   "outputs": [],
   "source": [
    "y = np.log(df.charges)\n",
    "x = data.drop(['charges'],axis=1)"
   ]
  },
  {
   "cell_type": "code",
   "execution_count": 19,
   "id": "a7988875",
   "metadata": {
    "execution": {
     "iopub.execute_input": "2022-06-23T06:22:44.708501Z",
     "iopub.status.busy": "2022-06-23T06:22:44.707736Z",
     "iopub.status.idle": "2022-06-23T06:22:45.965449Z",
     "shell.execute_reply": "2022-06-23T06:22:45.964146Z"
    },
    "papermill": {
     "duration": 1.271911,
     "end_time": "2022-06-23T06:22:45.968317",
     "exception": false,
     "start_time": "2022-06-23T06:22:44.696406",
     "status": "completed"
    },
    "tags": []
   },
   "outputs": [],
   "source": [
    "from sklearn.model_selection import train_test_split\n",
    "x_train,x_test,y_train,y_test = train_test_split(x, y, test_size = 0.2, random_state = 2)"
   ]
  },
  {
   "cell_type": "code",
   "execution_count": 20,
   "id": "023c395b",
   "metadata": {
    "execution": {
     "iopub.execute_input": "2022-06-23T06:22:45.991667Z",
     "iopub.status.busy": "2022-06-23T06:22:45.990540Z",
     "iopub.status.idle": "2022-06-23T06:22:46.118479Z",
     "shell.execute_reply": "2022-06-23T06:22:46.116774Z"
    },
    "papermill": {
     "duration": 0.142582,
     "end_time": "2022-06-23T06:22:46.121138",
     "exception": false,
     "start_time": "2022-06-23T06:22:45.978556",
     "status": "completed"
    },
    "tags": []
   },
   "outputs": [
    {
     "name": "stdout",
     "output_type": "stream",
     "text": [
      "Linear Regression Test Score is :  0.7935624527564021\n",
      "Linear Regression Coef is :  [ 0.03383234  0.01182523  0.1052668   1.5382697   0.03520211 -0.07242735]\n",
      "Linear Regression intercept is :  6.971788167596159\n"
     ]
    }
   ],
   "source": [
    "from sklearn.linear_model import LinearRegression\n",
    "LinearRegressionModel = LinearRegression()\n",
    "LinearRegressionModel.fit(x_train,y_train)\n",
    "print('Linear Regression Test Score is : ' , LinearRegressionModel.score(x_test, y_test))\n",
    "print('Linear Regression Coef is : ' , LinearRegressionModel.coef_)\n",
    "print('Linear Regression intercept is : ' , LinearRegressionModel.intercept_)"
   ]
  },
  {
   "cell_type": "code",
   "execution_count": 21,
   "id": "f07d435d",
   "metadata": {
    "execution": {
     "iopub.execute_input": "2022-06-23T06:22:46.143542Z",
     "iopub.status.busy": "2022-06-23T06:22:46.143130Z",
     "iopub.status.idle": "2022-06-23T06:22:46.153334Z",
     "shell.execute_reply": "2022-06-23T06:22:46.151840Z"
    },
    "papermill": {
     "duration": 0.024195,
     "end_time": "2022-06-23T06:22:46.155581",
     "exception": false,
     "start_time": "2022-06-23T06:22:46.131386",
     "status": "completed"
    },
    "tags": []
   },
   "outputs": [
    {
     "name": "stdout",
     "output_type": "stream",
     "text": [
      "Y predict:  [8.02988136 9.25571748 9.09131033 7.96091664 9.03256952]\n",
      "Y test:  17      7.781210\n",
      "1091    9.331366\n",
      "273     9.171357\n",
      "270     7.449752\n",
      "874     9.092810\n",
      "Name: charges, dtype: float64\n"
     ]
    }
   ],
   "source": [
    "y_pred = LinearRegressionModel.predict(x_test)\n",
    "print('Y predict: ',y_pred[:5])\n",
    "print('Y test: ', y_test[:5])"
   ]
  },
  {
   "cell_type": "code",
   "execution_count": 22,
   "id": "ed8e5136",
   "metadata": {
    "execution": {
     "iopub.execute_input": "2022-06-23T06:22:46.178788Z",
     "iopub.status.busy": "2022-06-23T06:22:46.177977Z",
     "iopub.status.idle": "2022-06-23T06:22:46.191084Z",
     "shell.execute_reply": "2022-06-23T06:22:46.189660Z"
    },
    "papermill": {
     "duration": 0.028125,
     "end_time": "2022-06-23T06:22:46.193871",
     "exception": false,
     "start_time": "2022-06-23T06:22:46.165746",
     "status": "completed"
    },
    "tags": []
   },
   "outputs": [
    {
     "name": "stdout",
     "output_type": "stream",
     "text": [
      "root square error is 0.7935624527564021\n",
      "RMSE 0.1959857834255303\n"
     ]
    }
   ],
   "source": [
    "from sklearn.metrics import mean_squared_error\n",
    "print('root square error is',LinearRegressionModel.score(x_test, y_test))\n",
    "predictions=LinearRegressionModel.predict(x_test)\n",
    "\n",
    "print('RMSE', mean_squared_error(y_test, predictions))\n"
   ]
  },
  {
   "cell_type": "code",
   "execution_count": 23,
   "id": "518ea47a",
   "metadata": {
    "execution": {
     "iopub.execute_input": "2022-06-23T06:22:46.216910Z",
     "iopub.status.busy": "2022-06-23T06:22:46.216464Z",
     "iopub.status.idle": "2022-06-23T06:22:46.441098Z",
     "shell.execute_reply": "2022-06-23T06:22:46.439768Z"
    },
    "papermill": {
     "duration": 0.23965,
     "end_time": "2022-06-23T06:22:46.443919",
     "exception": false,
     "start_time": "2022-06-23T06:22:46.204269",
     "status": "completed"
    },
    "tags": []
   },
   "outputs": [
    {
     "data": {
      "image/png": "[encoded data removed]",
      "text/plain": [
       "<Figure size 432x288 with 1 Axes>"
      ]
     },
     "metadata": {
      "needs_background": "light"
     },
     "output_type": "display_data"
    }
   ],
   "source": [
    "actual_values=y_test\n",
    "plt.scatter(predictions, actual_values,alpha=.7, color='b')\n",
    "plt.xlabel('Predicted Price')\n",
    "plt.ylabel('Actual Price')\n",
    "plt.title('Linear Regression Model')\n",
    "\n",
    "plt.show()"
   ]
  },
  {
   "cell_type": "code",
   "execution_count": 24,
   "id": "a62b449d",
   "metadata": {
    "execution": {
     "iopub.execute_input": "2022-06-23T06:22:46.468012Z",
     "iopub.status.busy": "2022-06-23T06:22:46.467582Z",
     "iopub.status.idle": "2022-06-23T06:22:46.473682Z",
     "shell.execute_reply": "2022-06-23T06:22:46.472507Z"
    },
    "papermill": {
     "duration": 0.020853,
     "end_time": "2022-06-23T06:22:46.475974",
     "exception": false,
     "start_time": "2022-06-23T06:22:46.455121",
     "status": "completed"
    },
    "tags": []
   },
   "outputs": [],
   "source": [
    "#This is a people from our data, thats a tuple, we want to change it to numpy array\n",
    "input = (31,0,36.3,2,1,1) \n",
    "\n",
    "# Changing the tuple to numpy array\n",
    "input_numpy = np.asarray(input)\n",
    "\n",
    "# reshaping this array\n",
    "input_numpy_reshaped = input_numpy.reshape(1,-1)"
   ]
  },
  {
   "cell_type": "code",
   "execution_count": 25,
   "id": "9b14d61c",
   "metadata": {
    "execution": {
     "iopub.execute_input": "2022-06-23T06:22:46.500324Z",
     "iopub.status.busy": "2022-06-23T06:22:46.499118Z",
     "iopub.status.idle": "2022-06-23T06:22:46.509638Z",
     "shell.execute_reply": "2022-06-23T06:22:46.508114Z"
    },
    "papermill": {
     "duration": 0.025071,
     "end_time": "2022-06-23T06:22:46.511838",
     "exception": false,
     "start_time": "2022-06-23T06:22:46.486767",
     "status": "completed"
    },
    "tags": []
   },
   "outputs": [
    {
     "name": "stdout",
     "output_type": "stream",
     "text": [
      "The ACTUAL Medical Insurance Cost with is : 38711 USD\n",
      "The Estimated Medical Insurance Cost with Linear Regression is : 14.881089781853754 USD\n"
     ]
    },
    {
     "name": "stderr",
     "output_type": "stream",
     "text": [
      "/opt/conda/lib/python3.7/site-packages/sklearn/base.py:451: UserWarning: X does not have valid feature names, but LinearRegression was fitted with feature names\n",
      "  \"X does not have valid feature names, but\"\n"
     ]
    }
   ],
   "source": [
    "prediction = LinearRegressionModel.predict(input_numpy_reshaped)\n",
    "print(\"The ACTUAL Medical Insurance Cost with is :\",\"38711\", \"USD\")\n",
    "print(\"The Estimated Medical Insurance Cost with Linear Regression is :\", prediction[0], \"USD\")"
   ]
  },
  {
   "cell_type": "code",
   "execution_count": null,
   "id": "e93c1ee4",
   "metadata": {
    "papermill": {
     "duration": 0.01052,
     "end_time": "2022-06-23T06:22:46.533367",
     "exception": false,
     "start_time": "2022-06-23T06:22:46.522847",
     "status": "completed"
    },
    "tags": []
   },
   "outputs": [],
   "source": []
  }
 ],
 "metadata": {
  "kernelspec": {
   "display_name": "Python 3",
   "language": "python",
   "name": "python3"
  },
  "language_info": {
   "codemirror_mode": {
    "name": "ipython",
    "version": 3
   },
   "file_extension": ".py",
   "mimetype": "text/x-python",
   "name": "python",
   "nbconvert_exporter": "python",
   "pygments_lexer": "ipython3",
   "version": "3.7.12"
  },
  "papermill": {
   "default_parameters": {},
   "duration": 15.42165,
   "end_time": "2022-06-23T06:22:47.367434",
   "environment_variables": {},
   "exception": null,
   "input_path": "__notebook__.ipynb",
   "output_path": "__notebook__.ipynb",
   "parameters": {},
   "start_time": "2022-06-23T06:22:31.945784",
   "version": "2.3.4"
  }
 },
 "nbformat": 4,
 "nbformat_minor": 5
}
