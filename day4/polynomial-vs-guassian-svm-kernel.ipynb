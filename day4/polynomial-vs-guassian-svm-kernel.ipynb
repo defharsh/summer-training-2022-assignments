{
 "cells": [
  {
   "cell_type": "code",
   "execution_count": 1,
   "id": "c9aeef6f",
   "metadata": {
    "_cell_guid": "b1076dfc-b9ad-4769-8c92-a6c4dae69d19",
    "_uuid": "8f2839f25d086af736a60e9eeb907d3b93b6e0e5",
    "execution": {
     "iopub.execute_input": "2022-06-24T05:27:42.058217Z",
     "iopub.status.busy": "2022-06-24T05:27:42.057513Z",
     "iopub.status.idle": "2022-06-24T05:27:42.076777Z",
     "shell.execute_reply": "2022-06-24T05:27:42.074771Z"
    },
    "papermill": {
     "duration": 0.03193,
     "end_time": "2022-06-24T05:27:42.079990",
     "exception": false,
     "start_time": "2022-06-24T05:27:42.048060",
     "status": "completed"
    },
    "tags": []
   },
   "outputs": [
    {
     "name": "stdout",
     "output_type": "stream",
     "text": [
      "/kaggle/input/iris-flower-dataset/IRIS.csv\n"
     ]
    }
   ],
   "source": [
    "# This Python 3 environment comes with many helpful analytics libraries installed\n",
    "# It is defined by the kaggle/python Docker image: https://github.com/kaggle/docker-python\n",
    "# For example, here's several helpful packages to load\n",
    "\n",
    "import numpy as np # linear algebra\n",
    "import pandas as pd # data processing, CSV file I/O (e.g. pd.read_csv)\n",
    "\n",
    "# Input data files are available in the read-only \"../input/\" directory\n",
    "# For example, running this (by clicking run or pressing Shift+Enter) will list all files under the input directory\n",
    "\n",
    "import os\n",
    "for dirname, _, filenames in os.walk('/kaggle/input'):\n",
    "    for filename in filenames:\n",
    "        print(os.path.join(dirname, filename))\n",
    "\n",
    "# You can write up to 20GB to the current directory (/kaggle/working/) that gets preserved as output when you create a version using \"Save & Run All\" \n",
    "# You can also write temporary files to /kaggle/temp/, but they won't be saved outside of the current session"
   ]
  },
  {
   "cell_type": "markdown",
   "id": "51453514",
   "metadata": {
    "papermill": {
     "duration": 0.005205,
     "end_time": "2022-06-24T05:27:42.091307",
     "exception": false,
     "start_time": "2022-06-24T05:27:42.086102",
     "status": "completed"
    },
    "tags": []
   },
   "source": [
    "**importing libraries**"
   ]
  },
  {
   "cell_type": "code",
   "execution_count": 2,
   "id": "df2d4794",
   "metadata": {
    "execution": {
     "iopub.execute_input": "2022-06-24T05:27:42.105658Z",
     "iopub.status.busy": "2022-06-24T05:27:42.104663Z",
     "iopub.status.idle": "2022-06-24T05:27:42.109631Z",
     "shell.execute_reply": "2022-06-24T05:27:42.108715Z"
    },
    "papermill": {
     "duration": 0.015248,
     "end_time": "2022-06-24T05:27:42.112080",
     "exception": false,
     "start_time": "2022-06-24T05:27:42.096832",
     "status": "completed"
    },
    "tags": []
   },
   "outputs": [],
   "source": [
    "import numpy as np ##not used\n",
    "import pandas as pd\n",
    "import matplotlib.pyplot as plt ##not used but can be used for data analysis and visualisation "
   ]
  },
  {
   "cell_type": "code",
   "execution_count": 3,
   "id": "b4115cd3",
   "metadata": {
    "execution": {
     "iopub.execute_input": "2022-06-24T05:27:42.125952Z",
     "iopub.status.busy": "2022-06-24T05:27:42.125190Z",
     "iopub.status.idle": "2022-06-24T05:27:42.176923Z",
     "shell.execute_reply": "2022-06-24T05:27:42.176076Z"
    },
    "papermill": {
     "duration": 0.061354,
     "end_time": "2022-06-24T05:27:42.179291",
     "exception": false,
     "start_time": "2022-06-24T05:27:42.117937",
     "status": "completed"
    },
    "tags": []
   },
   "outputs": [
    {
     "data": {
      "text/html": [
       "<div>\n",
       "<style scoped>\n",
       "    .dataframe tbody tr th:only-of-type {\n",
       "        vertical-align: middle;\n",
       "    }\n",
       "\n",
       "    .dataframe tbody tr th {\n",
       "        vertical-align: top;\n",
       "    }\n",
       "\n",
       "    .dataframe thead th {\n",
       "        text-align: right;\n",
       "    }\n",
       "</style>\n",
       "<table border=\"1\" class=\"dataframe\">\n",
       "  <thead>\n",
       "    <tr style=\"text-align: right;\">\n",
       "      <th></th>\n",
       "      <th>sepal_length</th>\n",
       "      <th>sepal_width</th>\n",
       "      <th>petal_length</th>\n",
       "      <th>petal_width</th>\n",
       "    </tr>\n",
       "  </thead>\n",
       "  <tbody>\n",
       "    <tr>\n",
       "      <th>count</th>\n",
       "      <td>150.000000</td>\n",
       "      <td>150.000000</td>\n",
       "      <td>150.000000</td>\n",
       "      <td>150.000000</td>\n",
       "    </tr>\n",
       "    <tr>\n",
       "      <th>mean</th>\n",
       "      <td>5.843333</td>\n",
       "      <td>3.054000</td>\n",
       "      <td>3.758667</td>\n",
       "      <td>1.198667</td>\n",
       "    </tr>\n",
       "    <tr>\n",
       "      <th>std</th>\n",
       "      <td>0.828066</td>\n",
       "      <td>0.433594</td>\n",
       "      <td>1.764420</td>\n",
       "      <td>0.763161</td>\n",
       "    </tr>\n",
       "    <tr>\n",
       "      <th>min</th>\n",
       "      <td>4.300000</td>\n",
       "      <td>2.000000</td>\n",
       "      <td>1.000000</td>\n",
       "      <td>0.100000</td>\n",
       "    </tr>\n",
       "    <tr>\n",
       "      <th>25%</th>\n",
       "      <td>5.100000</td>\n",
       "      <td>2.800000</td>\n",
       "      <td>1.600000</td>\n",
       "      <td>0.300000</td>\n",
       "    </tr>\n",
       "    <tr>\n",
       "      <th>50%</th>\n",
       "      <td>5.800000</td>\n",
       "      <td>3.000000</td>\n",
       "      <td>4.350000</td>\n",
       "      <td>1.300000</td>\n",
       "    </tr>\n",
       "    <tr>\n",
       "      <th>75%</th>\n",
       "      <td>6.400000</td>\n",
       "      <td>3.300000</td>\n",
       "      <td>5.100000</td>\n",
       "      <td>1.800000</td>\n",
       "    </tr>\n",
       "    <tr>\n",
       "      <th>max</th>\n",
       "      <td>7.900000</td>\n",
       "      <td>4.400000</td>\n",
       "      <td>6.900000</td>\n",
       "      <td>2.500000</td>\n",
       "    </tr>\n",
       "  </tbody>\n",
       "</table>\n",
       "</div>"
      ],
      "text/plain": [
       "       sepal_length  sepal_width  petal_length  petal_width\n",
       "count    150.000000   150.000000    150.000000   150.000000\n",
       "mean       5.843333     3.054000      3.758667     1.198667\n",
       "std        0.828066     0.433594      1.764420     0.763161\n",
       "min        4.300000     2.000000      1.000000     0.100000\n",
       "25%        5.100000     2.800000      1.600000     0.300000\n",
       "50%        5.800000     3.000000      4.350000     1.300000\n",
       "75%        6.400000     3.300000      5.100000     1.800000\n",
       "max        7.900000     4.400000      6.900000     2.500000"
      ]
     },
     "execution_count": 3,
     "metadata": {},
     "output_type": "execute_result"
    }
   ],
   "source": [
    "dataset = pd.read_csv('../input/iris-flower-dataset/IRIS.csv')\n",
    "dataset.describe()"
   ]
  },
  {
   "cell_type": "code",
   "execution_count": 4,
   "id": "e286b28b",
   "metadata": {
    "execution": {
     "iopub.execute_input": "2022-06-24T05:27:42.193105Z",
     "iopub.status.busy": "2022-06-24T05:27:42.192685Z",
     "iopub.status.idle": "2022-06-24T05:27:42.206419Z",
     "shell.execute_reply": "2022-06-24T05:27:42.205514Z"
    },
    "papermill": {
     "duration": 0.023126,
     "end_time": "2022-06-24T05:27:42.208393",
     "exception": false,
     "start_time": "2022-06-24T05:27:42.185267",
     "status": "completed"
    },
    "tags": []
   },
   "outputs": [
    {
     "data": {
      "text/html": [
       "<div>\n",
       "<style scoped>\n",
       "    .dataframe tbody tr th:only-of-type {\n",
       "        vertical-align: middle;\n",
       "    }\n",
       "\n",
       "    .dataframe tbody tr th {\n",
       "        vertical-align: top;\n",
       "    }\n",
       "\n",
       "    .dataframe thead th {\n",
       "        text-align: right;\n",
       "    }\n",
       "</style>\n",
       "<table border=\"1\" class=\"dataframe\">\n",
       "  <thead>\n",
       "    <tr style=\"text-align: right;\">\n",
       "      <th></th>\n",
       "      <th>sepal_length</th>\n",
       "      <th>sepal_width</th>\n",
       "      <th>petal_length</th>\n",
       "      <th>petal_width</th>\n",
       "      <th>species</th>\n",
       "    </tr>\n",
       "  </thead>\n",
       "  <tbody>\n",
       "    <tr>\n",
       "      <th>0</th>\n",
       "      <td>5.1</td>\n",
       "      <td>3.5</td>\n",
       "      <td>1.4</td>\n",
       "      <td>0.2</td>\n",
       "      <td>Iris-setosa</td>\n",
       "    </tr>\n",
       "    <tr>\n",
       "      <th>1</th>\n",
       "      <td>4.9</td>\n",
       "      <td>3.0</td>\n",
       "      <td>1.4</td>\n",
       "      <td>0.2</td>\n",
       "      <td>Iris-setosa</td>\n",
       "    </tr>\n",
       "    <tr>\n",
       "      <th>2</th>\n",
       "      <td>4.7</td>\n",
       "      <td>3.2</td>\n",
       "      <td>1.3</td>\n",
       "      <td>0.2</td>\n",
       "      <td>Iris-setosa</td>\n",
       "    </tr>\n",
       "    <tr>\n",
       "      <th>3</th>\n",
       "      <td>4.6</td>\n",
       "      <td>3.1</td>\n",
       "      <td>1.5</td>\n",
       "      <td>0.2</td>\n",
       "      <td>Iris-setosa</td>\n",
       "    </tr>\n",
       "    <tr>\n",
       "      <th>4</th>\n",
       "      <td>5.0</td>\n",
       "      <td>3.6</td>\n",
       "      <td>1.4</td>\n",
       "      <td>0.2</td>\n",
       "      <td>Iris-setosa</td>\n",
       "    </tr>\n",
       "  </tbody>\n",
       "</table>\n",
       "</div>"
      ],
      "text/plain": [
       "   sepal_length  sepal_width  petal_length  petal_width      species\n",
       "0           5.1          3.5           1.4          0.2  Iris-setosa\n",
       "1           4.9          3.0           1.4          0.2  Iris-setosa\n",
       "2           4.7          3.2           1.3          0.2  Iris-setosa\n",
       "3           4.6          3.1           1.5          0.2  Iris-setosa\n",
       "4           5.0          3.6           1.4          0.2  Iris-setosa"
      ]
     },
     "execution_count": 4,
     "metadata": {},
     "output_type": "execute_result"
    }
   ],
   "source": [
    "dataset.head()"
   ]
  },
  {
   "cell_type": "code",
   "execution_count": 5,
   "id": "a399587b",
   "metadata": {
    "execution": {
     "iopub.execute_input": "2022-06-24T05:27:42.222768Z",
     "iopub.status.busy": "2022-06-24T05:27:42.222019Z",
     "iopub.status.idle": "2022-06-24T05:27:42.227852Z",
     "shell.execute_reply": "2022-06-24T05:27:42.226956Z"
    },
    "papermill": {
     "duration": 0.016081,
     "end_time": "2022-06-24T05:27:42.230426",
     "exception": false,
     "start_time": "2022-06-24T05:27:42.214345",
     "status": "completed"
    },
    "tags": []
   },
   "outputs": [],
   "source": [
    "X = dataset.drop('species', axis=1)\n",
    "y = dataset['species']"
   ]
  },
  {
   "cell_type": "code",
   "execution_count": 6,
   "id": "b0e7d2ee",
   "metadata": {
    "execution": {
     "iopub.execute_input": "2022-06-24T05:27:42.245158Z",
     "iopub.status.busy": "2022-06-24T05:27:42.244411Z",
     "iopub.status.idle": "2022-06-24T05:27:42.257927Z",
     "shell.execute_reply": "2022-06-24T05:27:42.256592Z"
    },
    "papermill": {
     "duration": 0.023654,
     "end_time": "2022-06-24T05:27:42.260512",
     "exception": false,
     "start_time": "2022-06-24T05:27:42.236858",
     "status": "completed"
    },
    "tags": []
   },
   "outputs": [
    {
     "data": {
      "text/html": [
       "<div>\n",
       "<style scoped>\n",
       "    .dataframe tbody tr th:only-of-type {\n",
       "        vertical-align: middle;\n",
       "    }\n",
       "\n",
       "    .dataframe tbody tr th {\n",
       "        vertical-align: top;\n",
       "    }\n",
       "\n",
       "    .dataframe thead th {\n",
       "        text-align: right;\n",
       "    }\n",
       "</style>\n",
       "<table border=\"1\" class=\"dataframe\">\n",
       "  <thead>\n",
       "    <tr style=\"text-align: right;\">\n",
       "      <th></th>\n",
       "      <th>sepal_length</th>\n",
       "      <th>sepal_width</th>\n",
       "      <th>petal_length</th>\n",
       "      <th>petal_width</th>\n",
       "    </tr>\n",
       "  </thead>\n",
       "  <tbody>\n",
       "    <tr>\n",
       "      <th>0</th>\n",
       "      <td>5.1</td>\n",
       "      <td>3.5</td>\n",
       "      <td>1.4</td>\n",
       "      <td>0.2</td>\n",
       "    </tr>\n",
       "    <tr>\n",
       "      <th>1</th>\n",
       "      <td>4.9</td>\n",
       "      <td>3.0</td>\n",
       "      <td>1.4</td>\n",
       "      <td>0.2</td>\n",
       "    </tr>\n",
       "    <tr>\n",
       "      <th>2</th>\n",
       "      <td>4.7</td>\n",
       "      <td>3.2</td>\n",
       "      <td>1.3</td>\n",
       "      <td>0.2</td>\n",
       "    </tr>\n",
       "    <tr>\n",
       "      <th>3</th>\n",
       "      <td>4.6</td>\n",
       "      <td>3.1</td>\n",
       "      <td>1.5</td>\n",
       "      <td>0.2</td>\n",
       "    </tr>\n",
       "    <tr>\n",
       "      <th>4</th>\n",
       "      <td>5.0</td>\n",
       "      <td>3.6</td>\n",
       "      <td>1.4</td>\n",
       "      <td>0.2</td>\n",
       "    </tr>\n",
       "  </tbody>\n",
       "</table>\n",
       "</div>"
      ],
      "text/plain": [
       "   sepal_length  sepal_width  petal_length  petal_width\n",
       "0           5.1          3.5           1.4          0.2\n",
       "1           4.9          3.0           1.4          0.2\n",
       "2           4.7          3.2           1.3          0.2\n",
       "3           4.6          3.1           1.5          0.2\n",
       "4           5.0          3.6           1.4          0.2"
      ]
     },
     "execution_count": 6,
     "metadata": {},
     "output_type": "execute_result"
    }
   ],
   "source": [
    "X.head()"
   ]
  },
  {
   "cell_type": "code",
   "execution_count": 7,
   "id": "5b1f96bc",
   "metadata": {
    "execution": {
     "iopub.execute_input": "2022-06-24T05:27:42.275729Z",
     "iopub.status.busy": "2022-06-24T05:27:42.274988Z",
     "iopub.status.idle": "2022-06-24T05:27:42.282746Z",
     "shell.execute_reply": "2022-06-24T05:27:42.281804Z"
    },
    "papermill": {
     "duration": 0.018392,
     "end_time": "2022-06-24T05:27:42.285080",
     "exception": false,
     "start_time": "2022-06-24T05:27:42.266688",
     "status": "completed"
    },
    "tags": []
   },
   "outputs": [
    {
     "data": {
      "text/plain": [
       "0    Iris-setosa\n",
       "1    Iris-setosa\n",
       "2    Iris-setosa\n",
       "3    Iris-setosa\n",
       "4    Iris-setosa\n",
       "Name: species, dtype: object"
      ]
     },
     "execution_count": 7,
     "metadata": {},
     "output_type": "execute_result"
    }
   ],
   "source": [
    "y.head()"
   ]
  },
  {
   "cell_type": "code",
   "execution_count": 8,
   "id": "0332447f",
   "metadata": {
    "execution": {
     "iopub.execute_input": "2022-06-24T05:27:42.300463Z",
     "iopub.status.busy": "2022-06-24T05:27:42.299744Z",
     "iopub.status.idle": "2022-06-24T05:27:43.532176Z",
     "shell.execute_reply": "2022-06-24T05:27:43.531079Z"
    },
    "papermill": {
     "duration": 1.243192,
     "end_time": "2022-06-24T05:27:43.534873",
     "exception": false,
     "start_time": "2022-06-24T05:27:42.291681",
     "status": "completed"
    },
    "tags": []
   },
   "outputs": [],
   "source": [
    "from sklearn.model_selection import train_test_split\n",
    "x_train , x_test , y_train , y_test = train_test_split(X, y, test_size = 0.20) "
   ]
  },
  {
   "cell_type": "markdown",
   "id": "47ebb022",
   "metadata": {
    "papermill": {
     "duration": 0.006194,
     "end_time": "2022-06-24T05:27:43.547563",
     "exception": false,
     "start_time": "2022-06-24T05:27:43.541369",
     "status": "completed"
    },
    "tags": []
   },
   "source": [
    "**1. SVM(POLYNOMIAL KERNEL)**"
   ]
  },
  {
   "cell_type": "code",
   "execution_count": 9,
   "id": "3b17b9d1",
   "metadata": {
    "execution": {
     "iopub.execute_input": "2022-06-24T05:27:43.563149Z",
     "iopub.status.busy": "2022-06-24T05:27:43.562435Z",
     "iopub.status.idle": "2022-06-24T05:27:43.682008Z",
     "shell.execute_reply": "2022-06-24T05:27:43.680680Z"
    },
    "papermill": {
     "duration": 0.130352,
     "end_time": "2022-06-24T05:27:43.684637",
     "exception": false,
     "start_time": "2022-06-24T05:27:43.554285",
     "status": "completed"
    },
    "tags": []
   },
   "outputs": [
    {
     "data": {
      "text/plain": [
       "SVC(degree=8, kernel='poly')"
      ]
     },
     "execution_count": 9,
     "metadata": {},
     "output_type": "execute_result"
    }
   ],
   "source": [
    "from sklearn.svm import SVC\n",
    "polymodel = SVC(kernel='poly', degree=8)\n",
    "polymodel.fit(x_train, y_train)"
   ]
  },
  {
   "cell_type": "code",
   "execution_count": 10,
   "id": "9a4a2941",
   "metadata": {
    "execution": {
     "iopub.execute_input": "2022-06-24T05:27:43.699461Z",
     "iopub.status.busy": "2022-06-24T05:27:43.699064Z",
     "iopub.status.idle": "2022-06-24T05:27:43.706639Z",
     "shell.execute_reply": "2022-06-24T05:27:43.705447Z"
    },
    "papermill": {
     "duration": 0.018315,
     "end_time": "2022-06-24T05:27:43.709452",
     "exception": false,
     "start_time": "2022-06-24T05:27:43.691137",
     "status": "completed"
    },
    "tags": []
   },
   "outputs": [],
   "source": [
    "y_pred = polymodel.predict(x_test)"
   ]
  },
  {
   "cell_type": "code",
   "execution_count": 11,
   "id": "82063b09",
   "metadata": {
    "execution": {
     "iopub.execute_input": "2022-06-24T05:27:43.724990Z",
     "iopub.status.busy": "2022-06-24T05:27:43.724547Z",
     "iopub.status.idle": "2022-06-24T05:27:43.742481Z",
     "shell.execute_reply": "2022-06-24T05:27:43.740242Z"
    },
    "papermill": {
     "duration": 0.028885,
     "end_time": "2022-06-24T05:27:43.745272",
     "exception": false,
     "start_time": "2022-06-24T05:27:43.716387",
     "status": "completed"
    },
    "tags": []
   },
   "outputs": [
    {
     "name": "stdout",
     "output_type": "stream",
     "text": [
      "[[14  0  0]\n",
      " [ 0  9  0]\n",
      " [ 0  1  6]]\n",
      "                 precision    recall  f1-score   support\n",
      "\n",
      "    Iris-setosa       1.00      1.00      1.00        14\n",
      "Iris-versicolor       0.90      1.00      0.95         9\n",
      " Iris-virginica       1.00      0.86      0.92         7\n",
      "\n",
      "       accuracy                           0.97        30\n",
      "      macro avg       0.97      0.95      0.96        30\n",
      "   weighted avg       0.97      0.97      0.97        30\n",
      "\n"
     ]
    }
   ],
   "source": [
    "from sklearn.metrics import confusion_matrix , classification_report\n",
    "print(confusion_matrix(y_test, y_pred))\n",
    "print(classification_report(y_test, y_pred))"
   ]
  },
  {
   "cell_type": "markdown",
   "id": "78e0c723",
   "metadata": {
    "papermill": {
     "duration": 0.006641,
     "end_time": "2022-06-24T05:27:43.758580",
     "exception": false,
     "start_time": "2022-06-24T05:27:43.751939",
     "status": "completed"
    },
    "tags": []
   },
   "source": [
    "**2. SVM(GAUSSIAN KERNEL)**"
   ]
  },
  {
   "cell_type": "code",
   "execution_count": 12,
   "id": "bd75453f",
   "metadata": {
    "execution": {
     "iopub.execute_input": "2022-06-24T05:27:43.773882Z",
     "iopub.status.busy": "2022-06-24T05:27:43.773485Z",
     "iopub.status.idle": "2022-06-24T05:27:43.784077Z",
     "shell.execute_reply": "2022-06-24T05:27:43.782770Z"
    },
    "papermill": {
     "duration": 0.021022,
     "end_time": "2022-06-24T05:27:43.786439",
     "exception": false,
     "start_time": "2022-06-24T05:27:43.765417",
     "status": "completed"
    },
    "tags": []
   },
   "outputs": [
    {
     "data": {
      "text/plain": [
       "SVC()"
      ]
     },
     "execution_count": 12,
     "metadata": {},
     "output_type": "execute_result"
    }
   ],
   "source": [
    "rbfmodel = SVC(kernel='rbf')\n",
    "rbfmodel.fit(x_train, y_train)"
   ]
  },
  {
   "cell_type": "code",
   "execution_count": 13,
   "id": "f5bb2225",
   "metadata": {
    "execution": {
     "iopub.execute_input": "2022-06-24T05:27:43.802441Z",
     "iopub.status.busy": "2022-06-24T05:27:43.801541Z",
     "iopub.status.idle": "2022-06-24T05:27:43.809490Z",
     "shell.execute_reply": "2022-06-24T05:27:43.808019Z"
    },
    "papermill": {
     "duration": 0.018721,
     "end_time": "2022-06-24T05:27:43.812090",
     "exception": false,
     "start_time": "2022-06-24T05:27:43.793369",
     "status": "completed"
    },
    "tags": []
   },
   "outputs": [],
   "source": [
    "prediction = rbfmodel.predict(x_test)"
   ]
  },
  {
   "cell_type": "code",
   "execution_count": 14,
   "id": "aa465dad",
   "metadata": {
    "execution": {
     "iopub.execute_input": "2022-06-24T05:27:43.828447Z",
     "iopub.status.busy": "2022-06-24T05:27:43.827302Z",
     "iopub.status.idle": "2022-06-24T05:27:43.841224Z",
     "shell.execute_reply": "2022-06-24T05:27:43.840018Z"
    },
    "papermill": {
     "duration": 0.02499,
     "end_time": "2022-06-24T05:27:43.843814",
     "exception": false,
     "start_time": "2022-06-24T05:27:43.818824",
     "status": "completed"
    },
    "tags": []
   },
   "outputs": [
    {
     "name": "stdout",
     "output_type": "stream",
     "text": [
      "[[14  0  0]\n",
      " [ 0  9  0]\n",
      " [ 0  1  6]]\n",
      "                 precision    recall  f1-score   support\n",
      "\n",
      "    Iris-setosa       1.00      1.00      1.00        14\n",
      "Iris-versicolor       0.90      1.00      0.95         9\n",
      " Iris-virginica       1.00      0.86      0.92         7\n",
      "\n",
      "       accuracy                           0.97        30\n",
      "      macro avg       0.97      0.95      0.96        30\n",
      "   weighted avg       0.97      0.97      0.97        30\n",
      "\n"
     ]
    }
   ],
   "source": [
    "print(confusion_matrix(y_test, prediction))\n",
    "print(classification_report(y_test, prediction))"
   ]
  },
  {
   "cell_type": "markdown",
   "id": "da1e46a4",
   "metadata": {
    "papermill": {
     "duration": 0.006359,
     "end_time": "2022-06-24T05:27:43.856806",
     "exception": false,
     "start_time": "2022-06-24T05:27:43.850447",
     "status": "completed"
    },
    "tags": []
   },
   "source": [
    "**GUASSIAN KERNEL SVM PREDICTS BETTER THAN POLYNOMIAL KERNEL SVM FOR THIS DATASET**"
   ]
  }
 ],
 "metadata": {
  "kernelspec": {
   "display_name": "Python 3",
   "language": "python",
   "name": "python3"
  },
  "language_info": {
   "codemirror_mode": {
    "name": "ipython",
    "version": 3
   },
   "file_extension": ".py",
   "mimetype": "text/x-python",
   "name": "python",
   "nbconvert_exporter": "python",
   "pygments_lexer": "ipython3",
   "version": "3.7.12"
  },
  "papermill": {
   "default_parameters": {},
   "duration": 13.726165,
   "end_time": "2022-06-24T05:27:44.586087",
   "environment_variables": {},
   "exception": null,
   "input_path": "__notebook__.ipynb",
   "output_path": "__notebook__.ipynb",
   "parameters": {},
   "start_time": "2022-06-24T05:27:30.859922",
   "version": "2.3.4"
  }
 },
 "nbformat": 4,
 "nbformat_minor": 5
}
